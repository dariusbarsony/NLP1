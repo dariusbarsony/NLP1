{
  "nbformat": 4,
  "nbformat_minor": 0,
  "metadata": {
    "colab": {
      "name": "NLP1 2021 Practical 1 - Soons & Barsony",
      "provenance": [],
      "collapsed_sections": []
    },
    "kernelspec": {
      "display_name": "Python 3",
      "name": "python3"
    }
  },
  "cells": [
    {
      "cell_type": "markdown",
      "metadata": {
        "id": "1-aRiOgl4nHg"
      },
      "source": [
        "------\n",
        "**You cannot save any changes you make to this file, so please make sure to save it on your Google Colab drive or download it as a .ipynb file.**\n",
        "\n",
        "------\n",
        "\n",
        " "
      ]
    },
    {
      "cell_type": "markdown",
      "metadata": {
        "id": "lIZrAUx57vsM"
      },
      "source": [
        "Practical 1: Sentiment Detection in Movie Reviews\n",
        "========================================\n",
        "\n"
      ]
    },
    {
      "cell_type": "markdown",
      "metadata": {
        "id": "J4kXPMhyngZW"
      },
      "source": [
        "This practical concerns detecting sentiment in movie reviews. This is a typical NLP classification task.\n",
        "In [this file](https://gist.githubusercontent.com/bastings/d47423301cca214e3930061a5a75e177/raw/5113687382919e22b1f09ce71a8fecd1687a5760/reviews.json) (80MB) you will find 1000 positive and 1000 negative **movie reviews**.\n",
        "Each review is a **document** and consists of one or more sentences.\n",
        "\n",
        "To prepare yourself for this practical, you should\n",
        "have a look at a few of these texts to understand the difficulties of\n",
        "the task: how might one go about classifying the texts? You will write\n",
        "code that decides whether a movie review conveys positive or\n",
        "negative sentiment.\n",
        "\n",
        "Please make sure you have read the following paper:\n",
        "\n",
        ">   Bo Pang, Lillian Lee, and Shivakumar Vaithyanathan\n",
        "(2002). \n",
        "[Thumbs up? Sentiment Classification using Machine Learning\n",
        "Techniques](https://dl.acm.org/citation.cfm?id=1118704). EMNLP.\n",
        "\n",
        "Bo Pang et al. introduced the movie review sentiment\n",
        "classification task, and the above paper was one of the first papers on\n",
        "the topic. The first version of your sentiment classifier will do\n",
        "something similar to Pang et al.'s system. If you have questions about it,\n",
        "you should resolve you doubts as soon as possible with your TA.\n"
      ]
    },
    {
      "cell_type": "markdown",
      "metadata": {
        "id": "cb7errgRASzZ"
      },
      "source": [
        "**Advice**\n",
        "\n",
        "Please read through the entire practical and familiarise\n",
        "yourself with all requirements before you start coding or otherwise\n",
        "solving the tasks. Writing clean and concise code can make the difference\n",
        "between solving the assignment in a matter of hours, and taking days to\n",
        "run all experiments.\n",
        "\n",
        "## Environment\n",
        "\n",
        "All code should be written in **Python 3**. \n",
        "This is the default in Google Colab."
      ]
    },
    {
      "cell_type": "code",
      "metadata": {
        "colab": {
          "base_uri": "https://localhost:8080/"
        },
        "id": "SaZnxptMJiD7",
        "outputId": "599b90ad-1206-4b1e-b0c9-ceca4a17da40"
      },
      "source": [
        "!python --version"
      ],
      "execution_count": 143,
      "outputs": [
        {
          "output_type": "stream",
          "name": "stdout",
          "text": [
            "Python 3.7.12\n"
          ]
        }
      ]
    },
    {
      "cell_type": "markdown",
      "metadata": {
        "id": "BYZyIF7lJnGn"
      },
      "source": [
        "If you want to run code on your own computer, then download this notebook through `File -> Download .ipynb`.\n",
        "The easiest way to\n",
        "install Python is through downloading\n",
        "[Anaconda](https://www.anaconda.com/download). \n",
        "After installation, you can start the notebook by typing `jupyter notebook filename.ipynb`.\n",
        "You can also use an IDE\n",
        "such as [PyCharm](https://www.jetbrains.com/pycharm/download/) to make\n",
        "coding and debugging easier. It is good practice to create a [virtual\n",
        "environment](https://docs.python.org/3/tutorial/venv.html) for this\n",
        "project, so that any Python packages don’t interfere with other\n",
        "projects. \n",
        " \n",
        "\n",
        "**Learning Python 3**\n",
        "\n",
        "If you are new to Python 3, you may want to check out a few of these resources:\n",
        "- https://learnxinyminutes.com/docs/python3/\n",
        "- https://www.learnpython.org/\n",
        "- https://docs.python.org/3/tutorial/"
      ]
    },
    {
      "cell_type": "code",
      "metadata": {
        "id": "hok-BFu9lGoK"
      },
      "source": [
        "import math\n",
        "import os\n",
        "import sys\n",
        "from subprocess import call\n",
        "from nltk import FreqDist\n",
        "from nltk.util import ngrams\n",
        "from nltk.stem.porter import PorterStemmer\n",
        "import sklearn as sk\n",
        "from google.colab import drive\n",
        "import pickle\n",
        "import json\n",
        "from collections import Counter\n",
        "import requests\n",
        "import matplotlib.pyplot as plt\n",
        "import numpy as np"
      ],
      "execution_count": 144,
      "outputs": []
    },
    {
      "cell_type": "markdown",
      "metadata": {
        "id": "bXWyGHwE-ieQ"
      },
      "source": [
        "## Loading the data\n",
        "\n",
        "**Download the sentiment lexicon and the movie reviews dataset.**"
      ]
    },
    {
      "cell_type": "code",
      "metadata": {
        "colab": {
          "base_uri": "https://localhost:8080/"
        },
        "id": "lm-rakqtlMOT",
        "outputId": "2c116801-4400-4aa5-8d24-92a0138333c5"
      },
      "source": [
        "# download sentiment lexicon\n",
        "!wget https://gist.githubusercontent.com/bastings/d6f99dcb6c82231b94b013031356ba05/raw/f80a0281eba8621b122012c89c8b5e2200b39fd6/sent_lexicon\n",
        "# download review data\n",
        "!wget https://gist.githubusercontent.com/bastings/d47423301cca214e3930061a5a75e177/raw/5113687382919e22b1f09ce71a8fecd1687a5760/reviews.json"
      ],
      "execution_count": 145,
      "outputs": [
        {
          "output_type": "stream",
          "name": "stdout",
          "text": [
            "--2021-11-17 22:29:41--  https://gist.githubusercontent.com/bastings/d6f99dcb6c82231b94b013031356ba05/raw/f80a0281eba8621b122012c89c8b5e2200b39fd6/sent_lexicon\n",
            "Resolving gist.githubusercontent.com (gist.githubusercontent.com)... 185.199.108.133, 185.199.109.133, 185.199.110.133, ...\n",
            "Connecting to gist.githubusercontent.com (gist.githubusercontent.com)|185.199.108.133|:443... connected.\n",
            "HTTP request sent, awaiting response... 200 OK\n",
            "Length: 662577 (647K) [text/plain]\n",
            "Saving to: ‘sent_lexicon.5’\n",
            "\n",
            "\rsent_lexicon.5        0%[                    ]       0  --.-KB/s               \rsent_lexicon.5      100%[===================>] 647.05K  --.-KB/s    in 0.04s   \n",
            "\n",
            "2021-11-17 22:29:42 (14.6 MB/s) - ‘sent_lexicon.5’ saved [662577/662577]\n",
            "\n",
            "--2021-11-17 22:29:42--  https://gist.githubusercontent.com/bastings/d47423301cca214e3930061a5a75e177/raw/5113687382919e22b1f09ce71a8fecd1687a5760/reviews.json\n",
            "Resolving gist.githubusercontent.com (gist.githubusercontent.com)... 185.199.108.133, 185.199.109.133, 185.199.110.133, ...\n",
            "Connecting to gist.githubusercontent.com (gist.githubusercontent.com)|185.199.108.133|:443... connected.\n",
            "HTTP request sent, awaiting response... 200 OK\n",
            "Length: 83503869 (80M) [text/plain]\n",
            "Saving to: ‘reviews.json.5’\n",
            "\n",
            "reviews.json.5      100%[===================>]  79.63M   155MB/s    in 0.5s    \n",
            "\n",
            "2021-11-17 22:29:42 (155 MB/s) - ‘reviews.json.5’ saved [83503869/83503869]\n",
            "\n"
          ]
        }
      ]
    },
    {
      "cell_type": "markdown",
      "metadata": {
        "id": "AkPwuHp5LSuQ"
      },
      "source": [
        "**Load the movie reviews.**\n",
        "\n",
        "Each word in a review comes with its part-of-speech tag. For documentation on POS-tags, see https://catalog.ldc.upenn.edu/docs/LDC99T42/tagguid1.pdf.\n"
      ]
    },
    {
      "cell_type": "code",
      "metadata": {
        "colab": {
          "base_uri": "https://localhost:8080/"
        },
        "id": "careEKj-mRpl",
        "outputId": "28486e82-55ac-4e6d-beaa-b92da1047e3f"
      },
      "source": [
        "# file structure:\n",
        "# [\n",
        "#  {\"cv\": integer, \"sentiment\": str, \"content\": list} \n",
        "#  {\"cv\": integer, \"sentiment\": str, \"content\": list} \n",
        "#   ..\n",
        "# ]\n",
        "# where `content` is a list of sentences, \n",
        "# with a sentence being a list of (token, pos_tag) pairs.\n",
        "\n",
        "\n",
        "with open(\"reviews.json\", mode=\"r\", encoding=\"utf-8\") as f:\n",
        "  reviews = json.load(f)\n",
        "  \n",
        "print(\"Total number of reviews:\", len(reviews), '\\n')\n",
        "\n",
        "def print_sentence_with_pos(s):\n",
        "  print(\" \".join(\"%s/%s\" % (token, pos_tag) for token, pos_tag in s))\n",
        "\n",
        "for i, r in enumerate(reviews):\n",
        "  print(r[\"cv\"], r[\"sentiment\"], len(r[\"content\"]))  # cv, sentiment, num sents\n",
        "  print_sentence_with_pos(r[\"content\"][0])\n",
        "  if i == 4: \n",
        "    break\n",
        "    \n",
        "c = Counter()\n",
        "for review in reviews:\n",
        "  for sentence in review[\"content\"]:\n",
        "    for token, pos_tag in sentence:\n",
        "      c[token.lower()] += 1\n",
        "      \n",
        "print(\"\\nNumber of word types:\", len(c))\n",
        "print(\"Number of word tokens:\", sum(c.values()))\n",
        "\n",
        "print(\"\\nMost common tokens:\")\n",
        "for token, count in c.most_common(20):\n",
        "  print(\"%10s : %8d\" % (token, count))\n",
        "  "
      ],
      "execution_count": 146,
      "outputs": [
        {
          "output_type": "stream",
          "name": "stdout",
          "text": [
            "Total number of reviews: 2000 \n",
            "\n",
            "0 NEG 29\n",
            "Two/CD teen/JJ couples/NNS go/VBP to/TO a/DT church/NN party/NN ,/, drink/NN and/CC then/RB drive/NN ./.\n",
            "1 NEG 11\n",
            "Damn/JJ that/IN Y2K/CD bug/NN ./.\n",
            "2 NEG 24\n",
            "It/PRP is/VBZ movies/NNS like/IN these/DT that/WDT make/VBP a/DT jaded/JJ movie/NN viewer/NN thankful/JJ for/IN the/DT invention/NN of/IN the/DT Timex/NNP IndiGlo/NNP watch/NN ./.\n",
            "3 NEG 19\n",
            "QUEST/NN FOR/IN CAMELOT/NNP ``/`` Quest/NNP for/IN Camelot/NNP ''/'' is/VBZ Warner/NNP Bros./NNP '/POS first/JJ feature-length/JJ ,/, fully-animated/JJ attempt/NN to/TO steal/VB clout/NN from/IN Disney/NNP 's/POS cartoon/NN empire/NN ,/, but/CC the/DT mouse/NN has/VBZ no/DT reason/NN to/TO be/VB worried/VBN ./.\n",
            "4 NEG 38\n",
            "Synopsis/NNPS :/: A/DT mentally/RB unstable/JJ man/NN undergoing/VBG psychotherapy/NN saves/VBZ a/DT boy/NN from/IN a/DT potentially/RB fatal/JJ accident/NN and/CC then/RB falls/VBZ in/IN love/NN with/IN the/DT boy/NN 's/POS mother/NN ,/, a/DT fledgling/NN restauranteur/NN ./.\n",
            "\n",
            "Number of word types: 47743\n",
            "Number of word tokens: 1512359\n",
            "\n",
            "Most common tokens:\n",
            "         , :    77842\n",
            "       the :    75948\n",
            "         . :    59027\n",
            "         a :    37583\n",
            "       and :    35235\n",
            "        of :    33864\n",
            "        to :    31601\n",
            "        is :    25972\n",
            "        in :    21563\n",
            "        's :    18043\n",
            "        it :    15904\n",
            "      that :    15820\n",
            "     -rrb- :    11768\n",
            "     -lrb- :    11670\n",
            "        as :    11312\n",
            "      with :    10739\n",
            "       for :     9816\n",
            "       his :     9542\n",
            "      this :     9497\n",
            "      film :     9404\n"
          ]
        }
      ]
    },
    {
      "cell_type": "markdown",
      "metadata": {
        "id": "E6PWaEoh8B34"
      },
      "source": [
        "# Lexicon-based approach (3.5pts)\n",
        "\n"
      ]
    },
    {
      "cell_type": "markdown",
      "metadata": {
        "id": "JsTSMb6ma4E8"
      },
      "source": [
        "A traditional approach to classify documents according to their sentiment is the lexicon-based approach. To implement this approach, you need a **sentiment lexicon**, i.e., a list of words annotated with a sentiment label (e.g., positive and negative, or a score from 0 to 5).\n",
        "\n",
        "In this practical, you will use the sentiment\n",
        "lexicon released by Wilson et al. (2005).\n",
        "\n",
        "> Theresa Wilson, Janyce Wiebe, and Paul Hoffmann\n",
        "(2005). [Recognizing Contextual Polarity in Phrase-Level Sentiment\n",
        "Analysis](http://www.aclweb.org/anthology/H/H05/H05-1044.pdf). HLT-EMNLP.\n",
        "\n",
        "Pay attention to all the information available in the sentiment lexicon. The field *word1* contains the lemma, *priorpolarity* contains the sentiment label (positive, negative, both, or neutral), *type* gives you the magnitude of the word's sentiment (strong or weak), and *pos1* gives you the part-of-speech tag of the lemma. Some lemmas can have multiple part-of-speech tags and thus multiple entries in the lexicon. The path of the lexicon file is `\"sent_lexicon\"`.\n"
      ]
    },
    {
      "cell_type": "code",
      "metadata": {
        "colab": {
          "base_uri": "https://localhost:8080/"
        },
        "id": "Ogq0Eq2hQglh",
        "outputId": "284b071d-b466-4d6c-fa23-3f8266847ff3"
      },
      "source": [
        "with open(\"sent_lexicon\", mode=\"r\", encoding=\"utf-8\") as f:\n",
        "  line_cnt = 0\n",
        "  for line in f:\n",
        "    print(line.strip())\n",
        "    line_cnt += 1\n",
        "    if line_cnt > 4:\n",
        "      break"
      ],
      "execution_count": 147,
      "outputs": [
        {
          "output_type": "stream",
          "name": "stdout",
          "text": [
            "type=weaksubj len=1 word1=abandoned pos1=adj stemmed1=n priorpolarity=negative\n",
            "type=weaksubj len=1 word1=abandonment pos1=noun stemmed1=n priorpolarity=negative\n",
            "type=weaksubj len=1 word1=abandon pos1=verb stemmed1=y priorpolarity=negative\n",
            "type=strongsubj len=1 word1=abase pos1=verb stemmed1=y priorpolarity=negative\n",
            "type=strongsubj len=1 word1=abasement pos1=anypos stemmed1=y priorpolarity=negative\n"
          ]
        }
      ]
    },
    {
      "cell_type": "markdown",
      "metadata": {
        "id": "Mml4nOtIUBhn"
      },
      "source": [
        "Lexica such as this can be used to solve\n",
        "the classification task without using Machine Learning. For example, one might look up every word $w_1 ... w_n$ in a document, and compute a **binary score**\n",
        "$S_{binary}$ by counting how many words have a positive or a\n",
        "negative label in the sentiment lexicon $SLex$.\n",
        "\n",
        "$$S_{binary}(w_1 w_2 ... w_n) = \\sum_{i = 1}^{n}\\text{sign}(SLex\\big[w_i\\big])$$\n",
        "\n",
        "where $\\text{sign}(SLex\\big[w_i\\big])$ refers to the polarity of $w_i$.\n",
        "\n",
        "**Threshold.** On average, there are more positive than negative words per review (~7.13 more positive than negative per review) to take this bias into account you should use a threshold of **8** (roughly the bias itself) to make it harder to classify as positive.\n",
        "\n",
        "$$\n",
        "\\text{classify}(S_{binary}(w_1 w_2 ... w_n)) = \\bigg\\{\\begin{array}{ll}\n",
        "        \\text{positive} & \\text{if } S_{binary}(w_1w_2...w_n) > threshold\\\\\n",
        "        \\text{negative} & \\text{otherwise}\n",
        "        \\end{array}\n",
        "$$\n"
      ]
    },
    {
      "cell_type": "markdown",
      "metadata": {
        "id": "tOFnMvbeeZrc"
      },
      "source": [
        "#### (Q1.1) Implement this approach and report its classification accuracy. (1 pt)"
      ]
    },
    {
      "cell_type": "code",
      "metadata": {
        "id": "ED2aTEYutW1-"
      },
      "source": [
        "# YOUR CODE HERE\n",
        "def create_lexicon_dict():\n",
        "  sent_lexicon = {}\n",
        "  with open(\"sent_lexicon\", mode=\"r\", encoding=\"utf-8\") as f:\n",
        "    for line in f:\n",
        "      split_line = line.split(\" \")\n",
        "      magnitude = split_line[0].split(\"=\")[1]\n",
        "      word = split_line[2].split(\"=\")[1]\n",
        "      polarity = split_line[-1].split(\"=\")[1][:-1]\n",
        "      sent_lexicon[word] = [polarity, magnitude]\n",
        "  return sent_lexicon\n",
        "\n",
        "def s_binary(review, sent_lexicon, weight):\n",
        "  binary_count = 0\n",
        "  num_words = 0\n",
        "  for sentence in review['content']:\n",
        "    for word, _ in sentence:\n",
        "      word = word.lower()\n",
        "      try:\n",
        "        [polarity, magnitude] = sent_lexicon[word]\n",
        "        if magnitude == 'strongsubj':\n",
        "          w = weight\n",
        "        elif magnitude == 'weaksubj':\n",
        "          w = 1\n",
        "\n",
        "        if polarity == 'positive':\n",
        "          binary_count += (1 * w)\n",
        "        elif polarity == 'negative':\n",
        "          binary_count -= (1 * w)\n",
        "        num_words += 1 * w\n",
        "      except:\n",
        "        pass\n",
        "  return binary_count, num_words\n",
        "\n",
        "def lexicon_classification(reviews, threshold=8, weight=1):\n",
        "  sent_lexicon = create_lexicon_dict()\n",
        "  token_results = []\n",
        "  binary_counts = []\n",
        "  for review in reviews:\n",
        "    label = review['sentiment']\n",
        "    binary_count, _ = s_binary(review, sent_lexicon, weight)\n",
        "    binary_counts.append(binary_count)\n",
        "    if binary_count > threshold:\n",
        "      binary_score = 1\n",
        "    else:\n",
        "      binary_score = 0\n",
        "    if (binary_score == 1 and label == 'POS') or (binary_score == 0 and label == 'NEG'):\n",
        "      token_results.append(1)\n",
        "    else:\n",
        "      token_results.append(0)\n",
        "  return token_results, np.mean(binary_counts)\n",
        "\n",
        "def calculate_acc(token_results):\n",
        "  return sum(token_results) / len(token_results)\n",
        "\n"
      ],
      "execution_count": 148,
      "outputs": []
    },
    {
      "cell_type": "code",
      "metadata": {
        "colab": {
          "base_uri": "https://localhost:8080/"
        },
        "id": "iy528EUTphz5",
        "outputId": "bddc1777-860c-4f6f-84bc-17da19dd94a8"
      },
      "source": [
        "# token_results should be a list of binary indicators; for example [1, 0, 1, ...] \n",
        "# where 1 indicates a correct classification and 0 an incorrect classification.\n",
        "token_results, _ = lexicon_classification(reviews)\n",
        "token_accuracy = calculate_acc(token_results)\n",
        "print(\"Accuracy: %0.2f\" % token_accuracy)"
      ],
      "execution_count": 149,
      "outputs": [
        {
          "output_type": "stream",
          "name": "stdout",
          "text": [
            "Accuracy: 0.68\n"
          ]
        }
      ]
    },
    {
      "cell_type": "markdown",
      "metadata": {
        "id": "Twox0s_3eS0V"
      },
      "source": [
        "As the sentiment lexicon also has information about the **magnitude** of\n",
        "sentiment (e.g., *“excellent\"* has the same sentiment _polarity_ as *“good\"* but it has a higher magnitude), we can take a more fine-grained approach by adding up all\n",
        "sentiment scores, and deciding the polarity of the movie review using\n",
        "the sign of the weighted score $S_{weighted}$.\n",
        "\n",
        "$$S_{weighted}(w_1w_2...w_n) = \\sum_{i = 1}^{n}SLex\\big[w_i\\big]$$\n",
        "\n",
        "\n",
        "Make sure you define an appropriate threshold for this approach.\n",
        "\n",
        "#### (Q1.2) Now incorporate magnitude information and report the classification accuracy. Don't forget to use the threshold. (1pt)"
      ]
    },
    {
      "cell_type": "code",
      "metadata": {
        "colab": {
          "base_uri": "https://localhost:8080/"
        },
        "id": "qG3hUDnPtkhS",
        "outputId": "dcc1095c-c89c-4021-db6c-081045757a1d"
      },
      "source": [
        "# YOUR CODE HERE\n",
        "weight_val = 2\n",
        "_, weighted_threshold = lexicon_classification(reviews, threshold=8, weight=weight_val)\n",
        "print(\"Threshold to use:\", weighted_threshold)\n",
        "weighted_token_results, _ = lexicon_classification(reviews, threshold=weighted_threshold, weight=weight_val)"
      ],
      "execution_count": 150,
      "outputs": [
        {
          "output_type": "stream",
          "name": "stdout",
          "text": [
            "Threshold to use: 10.8195\n"
          ]
        }
      ]
    },
    {
      "cell_type": "code",
      "metadata": {
        "colab": {
          "base_uri": "https://localhost:8080/"
        },
        "id": "9vVk7CvDpyka",
        "outputId": "79a1f25a-4961-4862-e142-ac4db1af8313"
      },
      "source": [
        "magnitude_results = weighted_token_results # a list of binary indicators\n",
        "magnitude_accuracy = calculate_acc(magnitude_results)\n",
        "print(\"Accuracy: %0.2f\" % magnitude_accuracy)"
      ],
      "execution_count": 151,
      "outputs": [
        {
          "output_type": "stream",
          "name": "stdout",
          "text": [
            "Accuracy: 0.69\n"
          ]
        }
      ]
    },
    {
      "cell_type": "markdown",
      "metadata": {
        "id": "h9SHoGPfsAHV"
      },
      "source": [
        "#### (Q.1.4) Make a barplot of the two results (0.5pt)"
      ]
    },
    {
      "cell_type": "code",
      "metadata": {
        "colab": {
          "base_uri": "https://localhost:8080/",
          "height": 279
        },
        "id": "8LgBcYcXsEk3",
        "outputId": "8c0ed75c-ff3b-4ca2-f9f6-ff4adb5d1178"
      },
      "source": [
        "# YOUR CODE HERE\n",
        "plt.figure()\n",
        "x = np.arange(2)\n",
        "plt.bar(x, [token_accuracy, magnitude_accuracy])\n",
        "plt.xticks(x, [\"Binary\", \"Weighted\"])\n",
        "plt.xlabel(\"Lexicon-based method\")\n",
        "plt.ylabel(\"Accuracy\")\n",
        "plt.show()"
      ],
      "execution_count": 152,
      "outputs": [
        {
          "output_type": "display_data",
          "data": {
            "image/png": "[encoded data removed]",
            "text/plain": [
              "<Figure size 432x288 with 1 Axes>"
            ]
          },
          "metadata": {
            "needs_background": "light"
          }
        }
      ]
    },
    {
      "cell_type": "markdown",
      "metadata": {
        "id": "sNhS8OCVxMHd"
      },
      "source": [
        "#### (Q1.3) A better threshold (1pt)\n",
        "Above we have defined a threshold to account for an inherent bias in the dataset: there are more positive than negative words per review.\n",
        "However, that threshold does not take into account *document length*. Explain why this is a problem and implement an alternative way to compute the threshold."
      ]
    },
    {
      "cell_type": "markdown",
      "metadata": {
        "id": "xo7gk1I-omLI"
      },
      "source": [
        "**Answer**\n",
        "\n",
        "We have a bias of positive words occuring more frequently in text and we use this bias to set a hard threshold that is used for all documents, not taking length into account. However, because of the bias of positive words occuring more frequently, longer documents have higher probability to exceed the hard threshold set over all documents. Conversely, short documents will often not be able to surpass the hard threshold, even if overall sentiment is positive.\n",
        "An alternative way to compute the threshold would be to implement a flexible threshold $T$ that, for a review $d_i$, we calculate by multiplying the average bias with a weight that takes this effect of document length into account. We can define this formally as:\n",
        "\n",
        "$T_{d_i} = \\text{avg_bias} \\times \\Big(\\frac{dl_i}{\\frac{1}{N} \\sum_j^N dl_j}\\Big)$\n",
        "\n",
        "Where avg_bias is the average bias between positive/negative occurences throughout the whole corpus, $dl_i$ is the number of positive/negative words in the review (document length) and $\\frac{dl_i}{\\frac{1}{N} \\sum_j^N dl_j}\\Big)$ is the average document length. This way, the threshold for relatively short documents will be multiplied with a weight < 1 and relatively long documents with a weight > 1."
      ]
    },
    {
      "cell_type": "code",
      "metadata": {
        "colab": {
          "base_uri": "https://localhost:8080/"
        },
        "id": "Dwt0B8h8aKjr",
        "outputId": "37217dd8-d768-44ca-c5bf-14b228ae417b"
      },
      "source": [
        "# YOUR CODE HERE\n",
        "def get_statistics(reviews, weight):\n",
        "  sent_lexicon = create_lexicon_dict()\n",
        "  binary_counts = []\n",
        "  doc_lengths = []\n",
        "  for review in reviews:\n",
        "    binary_count, num_words = s_binary(review, sent_lexicon, weight)\n",
        "    binary_counts.append(binary_count)\n",
        "    doc_lengths.append(num_words)\n",
        "  return np.mean(binary_counts), np.mean(doc_lengths)\n",
        "\n",
        "def flexible_threshold_classification(reviews, avg_binary_diff, avg_doc_length, weight=1):\n",
        "  sent_lexicon = create_lexicon_dict()\n",
        "  token_results = []\n",
        "  for review in reviews:\n",
        "    label = review['sentiment']\n",
        "    binary_count, num_words = s_binary(review, sent_lexicon, weight)\n",
        "\n",
        "    threshold = avg_binary_diff * (num_words / avg_doc_length)\n",
        "    if binary_count > threshold:\n",
        "      binary_score = 1\n",
        "    else:\n",
        "      binary_score = 0\n",
        "    if (binary_score == 1 and label == 'POS') or (binary_score == 0 and label == 'NEG'):\n",
        "      token_results.append(1)\n",
        "    else:\n",
        "      token_results.append(0)\n",
        "  return token_results\n",
        "\n",
        "weight_val = 2\n",
        "avg_bias, avg_doc_length = get_statistics(reviews, weight=weight_val)\n",
        "print(\"Avg bias:\", avg_bias)\n",
        "print(\"Avg doc length:\", avg_doc_length)\n",
        "flexible_thresh_tokens = flexible_threshold_classification(reviews, avg_bias, avg_doc_length, weight=weight_val) \n",
        "flexible_acc = calculate_acc(flexible_thresh_tokens)\n",
        "print(\"Accuracy: %0.3f\" % flexible_acc)"
      ],
      "execution_count": 153,
      "outputs": [
        {
          "output_type": "stream",
          "name": "stdout",
          "text": [
            "Avg bias: 10.8195\n",
            "Avg doc length: 144.646\n",
            "Accuracy: 0.698\n"
          ]
        }
      ]
    },
    {
      "cell_type": "markdown",
      "metadata": {
        "id": "LibV4nR89BXb"
      },
      "source": [
        "# Naive Bayes (9.5pts)"
      ]
    },
    {
      "cell_type": "markdown",
      "metadata": {
        "id": "fnF9adQnuwia"
      },
      "source": [
        "\n",
        "Your second task is to program a simple Machine Learning approach that operates\n",
        "on a simple Bag-of-Words (BoW) representation of the text data, as\n",
        "described by Pang et al. (2002). In this approach, the only features we\n",
        "will consider are the words in the text themselves, without bringing in\n",
        "external sources of information. The BoW model is a popular way of\n",
        "representing texts as vectors, making it\n",
        "easy to apply classical Machine Learning algorithms on NLP tasks.\n",
        "However, the BoW representation is also very crude, since it discards\n",
        "all information related to word order and grammatical structure in the\n",
        "original text—as the name suggests.\n",
        "\n",
        "## Writing your own classifier (4pts)\n",
        "\n",
        "Write your own code to implement the Naive Bayes (NB) classifier. As\n",
        "a reminder, the Naive Bayes classifier works according to the following\n",
        "equation:\n",
        "$$\\hat{c} = \\operatorname*{arg\\,max}_{c \\in C} P(c|\\bar{f}) = \\operatorname*{arg\\,max}_{c \\in C} P(c)\\prod^n_{i=1} P(f_i|c)$$\n",
        "where $C = \\{ \\text{POS}, \\text{NEG} \\}$ is the set of possible classes,\n",
        "$\\hat{c} \\in C$ is the most probable class, and $\\bar{f}$ is the feature\n",
        "vector. Remember that we use the log of these probabilities when making\n",
        "a prediction:\n",
        "$$\\hat{c} = \\operatorname*{arg\\,max}_{c \\in C} \\Big\\{\\log P(c) + \\sum^n_{i=1} \\log P(f_i|c)\\Big\\}$$\n",
        "\n",
        "You can find more details about Naive Bayes in [Jurafsky &\n",
        "Martin](https://web.stanford.edu/~jurafsky/slp3/). You can also look at\n",
        "this helpful\n",
        "[pseudo-code](https://nlp.stanford.edu/IR-book/html/htmledition/naive-bayes-text-classification-1.html).\n",
        "\n",
        "*Note: this section and the next aim to put you in a position to replicate\n",
        "    Pang et al.'s Naive Bayes results. However, your numerical results\n",
        "    will differ from theirs, as they used different data.*\n",
        "\n",
        "**You must write the Naive Bayes training and prediction code from\n",
        "scratch.** You will not be given credit for using off-the-shelf Machine\n",
        "Learning libraries.\n",
        "\n",
        "The data contains the text of the reviews, where each document consists\n",
        "of the sentences in the review, the sentiment of the review and an index\n",
        "(cv) that you will later use for cross-validation. The\n",
        "text has already been tokenised and POS-tagged for you. Your algorithm\n",
        "should read in the text, **lowercase it**, store the words and their\n",
        "frequencies in an appropriate data structure that allows for easy\n",
        "computation of the probabilities used in the Naive Bayes algorithm, and\n",
        "then make predictions for new instances.\n"
      ]
    },
    {
      "cell_type": "markdown",
      "metadata": {
        "id": "vEpyQSBSkb33"
      },
      "source": [
        "#### (Q2.1) Unseen words (1pt)\n",
        "The presence of words in the test dataset that\n",
        "have not been seen during training can cause probabilities in the Naive Bayes classifier to equal $0$.\n",
        "These can be words which are unseen in both positive and negative training reviews (case 1), but also words which are seen in reviews _of only one sentiment class_ in the training dataset (case 2). In both cases, **you should skip these words for both classes**.  What would be the problem instead with skipping words only for one class in case 2? "
      ]
    },
    {
      "cell_type": "markdown",
      "metadata": {
        "id": "BanFiYYnoxDW"
      },
      "source": [
        "\n",
        "**Answer** \n",
        "\n",
        "We compute the probability of a review belong to a class in the log space, and because per definition: 0 <= p(w|c) <= 1, taking the log results in a negative number. So actually, in computing the class we take the highest negative number in the argmax operation. So if we have a word that, during training, we have seen for class C_1 but not for class C_2 and we decide to skip the word in inferring the log probability score for class C_2 but not for class C_1, we actually \"punish\" the overall score for class C_1 because we add an extra negative term to the overall score for this class. Put differently, skipping a word for the class in which it was not seen makes it more probable that the review/document is assigned to this class. This is clearly undesirable behaviour so it is better to skip words for both classes (unless we apply smoothing)."
      ]
    },
    {
      "cell_type": "markdown",
      "metadata": {
        "id": "gsZRhaI3WvzC"
      },
      "source": [
        "#### (Q2.2) Train your classifier on (positive and negative) reviews with cv-value 000-899, and test it on the remaining (positive and negative) reviews cv900–cv999.  Report results using classification accuracy as your evaluation metric. Your  features are the word vocabulary. The value of a feature is the count of that feature (word) in the document. (2pts)\n"
      ]
    },
    {
      "cell_type": "code",
      "metadata": {
        "colab": {
          "base_uri": "https://localhost:8080/"
        },
        "id": "G7zaJYGFvIJ3",
        "outputId": "cfb7d773-b43f-47bd-988b-2cce7d871c88"
      },
      "source": [
        "import nltk\n",
        "\n",
        "def compute_probs_NB(reviews, smoothing=False):\n",
        "  prior_probs = {'POS': 0, 'NEG': 0}\n",
        "  word_class_count = {'POS': {}, 'NEG': {}}\n",
        "\n",
        "  # Obtain the word counts per class.\n",
        "  for review in reviews:\n",
        "    label = review['sentiment']\n",
        "    prior_probs[label] += 1\n",
        "    for sentence in review['content']:\n",
        "      for word, pos_tag in sentence:\n",
        "        try:\n",
        "          word = word.lower()\n",
        "        except:\n",
        "          pass\n",
        "        if word in word_class_count[label]:\n",
        "          word_class_count[label][word] += 1\n",
        "        else:\n",
        "          word_class_count[label][word] = 1\n",
        "        \n",
        "  # Obtain the total vocabulary.\n",
        "  vocab_pos = list(word_class_count['POS'].keys())\n",
        "  vocab_neg = list(word_class_count['NEG'].keys())\n",
        "  vocabulary_all = list(set(vocab_pos + vocab_neg))\n",
        "  \n",
        "  if smoothing:\n",
        "    # Apply Laplace smoothing.\n",
        "    for word in vocabulary_all:\n",
        "      if word in word_class_count['POS'] and word in word_class_count['NEG']:\n",
        "        continue\n",
        "      elif word in word_class_count['POS']:\n",
        "        word_class_count['NEG'][word] = 0\n",
        "      elif word in word_class_count['NEG']:\n",
        "        word_class_count['POS'][word] = 0\n",
        "      vocabulary = vocabulary_all\n",
        "  else:\n",
        "    # Delete word counts that are only found in one of the classes.\n",
        "    for word in vocabulary_all:\n",
        "      if word in word_class_count['POS'] and word in word_class_count['NEG']:\n",
        "        continue\n",
        "      else:\n",
        "        try:\n",
        "          del word_class_count['POS'][word]\n",
        "        except:\n",
        "          del word_class_count['NEG'][word]\n",
        "    vocabulary = word_class_count['POS'].keys()\n",
        "\n",
        "  # Obtain the total class counts.\n",
        "  total_class_count = {}\n",
        "  for label in ['POS', 'NEG']:\n",
        "    total_class_count[label] = sum(count for count in word_class_count[label].values())\n",
        "    # Compute the prior probabilities.\n",
        "    prior_probs[label] = prior_probs[label] / len(reviews)\n",
        "\n",
        "  # Obtain the feature probabilities.\n",
        "  feature_probs = {'POS' : {}, 'NEG': {}}\n",
        "  V = len(vocabulary)\n",
        "  for label in ['POS', 'NEG']:\n",
        "    for word in vocabulary:\n",
        "      if smoothing:\n",
        "        feature_probs[label][word] = (word_class_count[label][word] + 1) / (total_class_count[label] + V)\n",
        "      else:\n",
        "        feature_probs[label][word] = word_class_count[label][word] / total_class_count[label] \n",
        "\n",
        "  return feature_probs, prior_probs, vocabulary\n",
        "\n",
        "def predict_class_NB(review, feature_probs, prior_probs):\n",
        "  class_probs = []\n",
        "  for c in ['POS', 'NEG']:\n",
        "    score = 0\n",
        "    for sentence in review['content']:\n",
        "        for word, pos_tag in sentence:\n",
        "          try:\n",
        "            word = word.lower()\n",
        "          except:\n",
        "            pass\n",
        "          if word in feature_probs['POS'] and word in feature_probs['NEG']:\n",
        "            score += np.log(feature_probs[c][word])\n",
        "          else:\n",
        "            continue\n",
        "    score += np.log(prior_probs[c])\n",
        "    class_probs.append(score)\n",
        "  prediction = np.argmax(class_probs)\n",
        "  if prediction == 0:\n",
        "    pred_label = 'POS'\n",
        "  elif prediction == 1:\n",
        "    pred_label = 'NEG'\n",
        "  return pred_label\n",
        "\n",
        "\n",
        "def evaluate_NB(reviews, feature_probs, prior_probs):\n",
        "  token_results = []\n",
        "  for review in reviews:\n",
        "    label = review['sentiment']\n",
        "    pred_class = predict_class_NB(review, feature_probs, prior_probs)\n",
        "    if pred_class == label:\n",
        "      token_results.append(1)\n",
        "    else:\n",
        "      token_results.append(0)\n",
        "  acc = calculate_acc(token_results)\n",
        "  return acc\n",
        "\n",
        "train_reviews = [review for review in reviews if review['cv'] < 900]\n",
        "test_reviews = [review for review in reviews if review['cv'] >= 900]\n",
        "feature_probs, prior_probs, _ = compute_probs_NB(train_reviews)\n",
        "test_acc = evaluate_NB(test_reviews, feature_probs, prior_probs)\n",
        "print(\"Accuracy: %0.3f\" % test_acc)"
      ],
      "execution_count": 154,
      "outputs": [
        {
          "output_type": "stream",
          "name": "stdout",
          "text": [
            "Accuracy: 0.835\n"
          ]
        }
      ]
    },
    {
      "cell_type": "markdown",
      "metadata": {
        "id": "0INK-PBoM6CB"
      },
      "source": [
        "#### (Q2.3) Would you consider accuracy to also be a good way to evaluate your classifier in a situation where 90% of your data instances are of positive movie reviews? (1pt)\n",
        "\n",
        "Simulate this scenario by keeping the positive reviews\n",
        "data unchanged, but only using negative reviews cv000–cv089 for\n",
        "training, and cv900–cv909 for testing. Calculate the classification\n",
        "accuracy, and explain what changed."
      ]
    },
    {
      "cell_type": "markdown",
      "metadata": {
        "id": "oFbcsYlipBAw"
      },
      "source": [
        "\n",
        "**Answer**\n",
        "\n",
        "No, if 90% of our data is skewed towards one sentiment (say positive) accuracy is not a good measure to use. If a dataset is highly skewed (e.g. 90% of the data belongs to the positive class), a classifier can learn to simply classify everything as having the label positive and then the classifier would still obtain an accuracy score of 90%. This also happens for our Naive Bayes classifier, as training on mainly positive reviews skews our (prior) probability distributions so that almost all test reviews are also classified as being positive (in our case 98 out of 110 reviews). Although this gives a relatively 'high' accuracy score of 0.891, this result is misleading and actually not so impressive, as a naive baseline that predicts everything as positive would obtain an even higher accuracy of 0.90. \n"
      ]
    },
    {
      "cell_type": "code",
      "metadata": {
        "colab": {
          "base_uri": "https://localhost:8080/"
        },
        "id": "GWDkt5ZrrFGp",
        "outputId": "3a5f31b0-bda1-4cc3-c740-107bff39b6fb"
      },
      "source": [
        "# YOUR CODE HERE\n",
        "train_reviews_ = [review for review in reviews if (review['cv'] < 90) or (review['cv'] < 900 and review['sentiment'] == 'POS')]\n",
        "test_reviews_ = [review for review in reviews if (review['cv'] >= 900 and review['cv'] < 910) or (review['cv'] >= 900 and review['sentiment'] == 'POS')]\n",
        "\n",
        "feature_probs_, prior_probs_, _ = compute_probs_NB(train_reviews_)\n",
        "test_acc_imbalanced = evaluate_NB(test_reviews_, feature_probs_, prior_probs_)\n",
        "print(\"Accuracy: %0.3f\" % test_acc_imbalanced)"
      ],
      "execution_count": 155,
      "outputs": [
        {
          "output_type": "stream",
          "name": "stdout",
          "text": [
            "Accuracy: 0.891\n"
          ]
        }
      ]
    },
    {
      "cell_type": "markdown",
      "metadata": {
        "id": "6wJzcHX3WUDm"
      },
      "source": [
        "## Smoothing (1pt)\n",
        "\n",
        "As mentioned above, the presence of words in the test dataset that\n",
        "have not been seen during training can cause probabilities in the Naive\n",
        "Bayes classifier to be $0$, thus making that particular test instance\n",
        "undecidable. The standard way to mitigate this effect (as well as to\n",
        "give more clout to rare words) is to use smoothing, in which the\n",
        "probability fraction\n",
        "$$\\frac{\\text{count}(w_i, c)}{\\sum\\limits_{w\\in V} \\text{count}(w, c)}$$ for a word\n",
        "$w_i$ becomes\n",
        "$$\\frac{\\text{count}(w_i, c) + \\text{smoothing}(w_i)}{\\sum\\limits_{w\\in V} \\text{count}(w, c) + \\sum\\limits_{w \\in V} \\text{smoothing}(w)}$$\n",
        "\n",
        "\n",
        "\n"
      ]
    },
    {
      "cell_type": "markdown",
      "metadata": {
        "id": "PBNIcbwUWphC"
      },
      "source": [
        "#### (Q2.4) Implement Laplace feature smoothing (1pt)\n",
        "Implement Laplace smoothing, i.e., smoothing with a constant value ($smoothing(w) = \\kappa, \\forall w \\in V$), in your Naive\n",
        "Bayes classifier’s code, and report the impact on performance. \n",
        "Use $\\kappa = 1$."
      ]
    },
    {
      "cell_type": "code",
      "metadata": {
        "colab": {
          "base_uri": "https://localhost:8080/"
        },
        "id": "g03yflCc9kpW",
        "outputId": "61cfcb13-04c2-405d-fb6d-e2b22f7fd39a"
      },
      "source": [
        "# YOUR CODE HERE\n",
        "train_reviews = [review for review in reviews if review['cv'] < 900]\n",
        "test_reviews = [review for review in reviews if review['cv'] >= 900]\n",
        "\n",
        "feature_probs, prior_probs, _ = compute_probs_NB(train_reviews, smoothing=True)\n",
        "test_acc = evaluate_NB(test_reviews, feature_probs, prior_probs)\n",
        "print(\"Accuracy: %0.3f\" % test_acc)"
      ],
      "execution_count": 156,
      "outputs": [
        {
          "output_type": "stream",
          "name": "stdout",
          "text": [
            "Accuracy: 0.825\n"
          ]
        }
      ]
    },
    {
      "cell_type": "markdown",
      "metadata": {
        "id": "ZiGcgwba87D5"
      },
      "source": [
        "## Cross-Validation (1.5pts)\n",
        "\n",
        "A serious danger in using Machine Learning on small datasets, with many\n",
        "iterations of slightly different versions of the algorithms, is ending up with Type III errors, also called the “testing hypotheses\n",
        "suggested by the data” errors. This type of error occurs when we make\n",
        "repeated improvements to our classifiers by playing with features and\n",
        "their processing, but we don’t get a fresh, never-before seen test\n",
        "dataset every time. Thus, we risk developing a classifier that gets better\n",
        "and better on our data, but only gets worse at generalizing to new, unseen data. In other words, we risk developping a classifier that overfits.\n",
        "\n",
        "A simple method to guard against Type III errors is to use\n",
        "Cross-Validation. In **N-fold Cross-Validation**, we divide the data into N\n",
        "distinct chunks, or folds. Then, we repeat the experiment N times: each\n",
        "time holding out one of the folds for testing, training our classifier\n",
        "on the remaining N - 1 data folds, and reporting performance on the\n",
        "held-out fold. We can use different strategies for dividing the data:\n",
        "\n",
        "-   Consecutive splitting:\n",
        "  - cv000–cv099 = Split 1\n",
        "  - cv100–cv199 = Split 2\n",
        "  - etc.\n",
        "  \n",
        "-   Round-robin splitting (mod 10):\n",
        "  - cv000, cv010, cv020, … = Split 1\n",
        "  - cv001, cv011, cv021, … = Split 2\n",
        "  - etc.\n",
        "\n",
        "-   Random sampling/splitting\n",
        "  - Not used here (but you may choose to split this way in a non-educational situation)\n",
        "\n"
      ]
    },
    {
      "cell_type": "markdown",
      "metadata": {
        "id": "8OeLcbSauGtR"
      },
      "source": [
        "#### (Q2.5) Write the code to implement 10-fold cross-validation using round-robin splitting for your Naive Bayes classifier from Q2.4 and compute the 10 accuracies. Report the final performance, which is the average of the performances per fold. If all splits perform equally well, this is a good sign. (1pt)"
      ]
    },
    {
      "cell_type": "code",
      "metadata": {
        "colab": {
          "base_uri": "https://localhost:8080/"
        },
        "id": "3KeCGPa7Nuzx",
        "outputId": "9e8ca291-c14a-4e6d-99b3-3abb132d0239"
      },
      "source": [
        "# YOUR CODE HERE\n",
        "def n_fold_cv(data, n):\n",
        "  folds = [[] for _ in range(n)]\n",
        "  j = 0\n",
        "  for i, sample in enumerate(data):\n",
        "    if i % n == 0:\n",
        "      j = 0\n",
        "    folds[j].append(sample)\n",
        "    j += 1\n",
        "  return folds\n",
        "\n",
        "def run_n_fold_cv(reviews, n, smoothing=False):\n",
        "  print(\"Running experiments for {} different cross-validation splits\".format(n))\n",
        "  folds = n_fold_cv(reviews, n)\n",
        "  test_accuracies = []\n",
        "  vocab_sizes = []\n",
        "  for i in range(n):\n",
        "    test_reviews = folds[i]\n",
        "    train_folds = [fold for j,fold in enumerate(folds) if j != i]\n",
        "    train_reviews = [review for fold in train_folds for review in fold]\n",
        "\n",
        "    feature_probs, prior_probs, vocabulary = compute_probs_NB(train_reviews, smoothing=smoothing)\n",
        "    test_acc = evaluate_NB(test_reviews, feature_probs, prior_probs)\n",
        "    test_accuracies.append(test_acc)\n",
        "    vocab_sizes.append(len(vocabulary))\n",
        "    print(\"Completed experiment {}/{}\".format(i+1, n))\n",
        "  return test_accuracies, vocab_sizes\n",
        "\n",
        "test_accuracies, vocab_sizes_regular = run_n_fold_cv(reviews, n=10, smoothing=False)\n",
        "print(\"\\nResults obtained without smoothing:\")\n",
        "print(\"Test accuracies:\", test_accuracies)\n",
        "print(\"Average accuracy: %0.3f\" % np.mean(test_accuracies))\n",
        "print(\"Average vocab size: %0.0f\" % np.mean(vocab_sizes_regular))\n",
        "    \n",
        "print(\"\")\n",
        "\n",
        "test_accuracies_smoothing, vocab_sizes = run_n_fold_cv(reviews, n=10, smoothing=True)\n",
        "print(\"\\nResults obtained with smoothing:\")\n",
        "print(\"Test accuracies:\", test_accuracies_smoothing)\n",
        "print(\"Average accuracy: %0.3f\" % np.mean(test_accuracies_smoothing))\n",
        "print(\"Average vocab size: %0.0f\" % np.mean(vocab_sizes))"
      ],
      "execution_count": 157,
      "outputs": [
        {
          "output_type": "stream",
          "name": "stdout",
          "text": [
            "Running experiments for 10 different cross-validation splits\n",
            "Completed experiment 1/10\n",
            "Completed experiment 2/10\n",
            "Completed experiment 3/10\n",
            "Completed experiment 4/10\n",
            "Completed experiment 5/10\n",
            "Completed experiment 6/10\n",
            "Completed experiment 7/10\n",
            "Completed experiment 8/10\n",
            "Completed experiment 9/10\n",
            "Completed experiment 10/10\n",
            "\n",
            "Results obtained without smoothing:\n",
            "Test accuracies: [0.77, 0.845, 0.81, 0.855, 0.8, 0.865, 0.805, 0.8, 0.825, 0.815]\n",
            "Average accuracy: 0.819\n",
            "Average vocab size: 18784\n",
            "\n",
            "Running experiments for 10 different cross-validation splits\n",
            "Completed experiment 1/10\n",
            "Completed experiment 2/10\n",
            "Completed experiment 3/10\n",
            "Completed experiment 4/10\n",
            "Completed experiment 5/10\n",
            "Completed experiment 6/10\n",
            "Completed experiment 7/10\n",
            "Completed experiment 8/10\n",
            "Completed experiment 9/10\n",
            "Completed experiment 10/10\n",
            "\n",
            "Results obtained with smoothing:\n",
            "Test accuracies: [0.79, 0.835, 0.805, 0.825, 0.78, 0.845, 0.83, 0.775, 0.83, 0.84]\n",
            "Average accuracy: 0.815\n",
            "Average vocab size: 45446\n"
          ]
        }
      ]
    },
    {
      "cell_type": "markdown",
      "metadata": {
        "id": "otdlsDXBNyOa"
      },
      "source": [
        "#### (Q2.6) Report the variance of the 10 accuracy scores. (0.5pt)\n",
        "\n",
        "**Please report all future results using 10-fold cross-validation now\n",
        "(unless told to use the held-out test set).**"
      ]
    },
    {
      "cell_type": "code",
      "metadata": {
        "colab": {
          "base_uri": "https://localhost:8080/"
        },
        "id": "ZoBQm1KuNzNR",
        "outputId": "0e96dea2-2556-40f0-ba12-28dc657886c0"
      },
      "source": [
        "# YOUR CODE HERE\n",
        "variance = np.var(test_accuracies_smoothing)\n",
        "print(\"Variance of accuracy scores:\", variance)"
      ],
      "execution_count": 158,
      "outputs": [
        {
          "output_type": "stream",
          "name": "stdout",
          "text": [
            "Variance of accuracy scores: 0.0006022499999999985\n"
          ]
        }
      ]
    },
    {
      "cell_type": "markdown",
      "metadata": {
        "id": "s6A2zX9_BRKm"
      },
      "source": [
        "## Features, overfitting, and the curse of dimensionality\n",
        "\n",
        "In the Bag-of-Words model, ideally we would like each distinct word in\n",
        "the text to be mapped to its own dimension in the output vector\n",
        "representation. However, real world text is messy, and we need to decide\n",
        "on what we consider to be a word. For example, is “`word`\" different\n",
        "from “`Word`\", from “`word`”, or from “`words`\"? Too strict a\n",
        "definition, and the number of features explodes, while our algorithm\n",
        "fails to learn anything generalisable. Too lax, and we risk destroying\n",
        "our learning signal. In the following section, you will learn about\n",
        "confronting the feature sparsity and the overfitting problems as they\n",
        "occur in NLP classification tasks."
      ]
    },
    {
      "cell_type": "markdown",
      "metadata": {
        "id": "EKK8FNt8VtcZ"
      },
      "source": [
        "### Stemming (1.5pts)\n",
        "\n",
        "To make your algorithm more robust, use stemming and hash different inflections of a word to the same feature in the BoW vector space. Please use the [Porter stemming\n",
        "    algorithm](http://www.nltk.org/howto/stem.html) from NLTK.\n",
        "\n"
      ]
    },
    {
      "cell_type": "code",
      "metadata": {
        "id": "NxtCul1IrBi_"
      },
      "source": [
        "# YOUR CODE HERE\n",
        "import copy\n",
        "\n",
        "def stem_reviews(reviews):\n",
        "  stemmer = PorterStemmer()\n",
        "  for review in reviews:\n",
        "    stemmed_content = []\n",
        "    for sentence in review['content']:\n",
        "      stemmed_sentence = []\n",
        "      for word, pos_tag in sentence:\n",
        "        word = word.lower()\n",
        "        word = stemmer.stem(word)\n",
        "        stemmed_sentence.append([word, pos_tag])\n",
        "      stemmed_content.append(stemmed_sentence)\n",
        "    review['content'] = stemmed_content\n",
        "  return reviews\n",
        "\n",
        "reviews_copy = copy.deepcopy(reviews)\n",
        "stemmed_reviews = stem_reviews(reviews_copy)"
      ],
      "execution_count": 159,
      "outputs": []
    },
    {
      "cell_type": "markdown",
      "metadata": {
        "id": "6SrJ1BeLXTnk"
      },
      "source": [
        "#### (Q2.7): How does the performance of your classifier change when you use stemming on your training and test datasets? (1pt)\n",
        "Use cross-validation to evaluate the classifier. \n"
      ]
    },
    {
      "cell_type": "code",
      "metadata": {
        "id": "gYqKBOiIrInT",
        "colab": {
          "base_uri": "https://localhost:8080/"
        },
        "outputId": "0a464b06-8d52-4b80-de89-7362501934cb"
      },
      "source": [
        "# YOUR ANSWER HERE\n",
        "test_accuracies, vocab_sizes_stemmed = run_n_fold_cv(stemmed_reviews, n=10, smoothing=True)\n",
        "print(\"\\nResults obtained with smoothing and stemming:\")\n",
        "print(\"Test accuracies:\", test_accuracies)\n",
        "print(\"Average accuracy: %0.3f\" % np.mean(test_accuracies))\n",
        "print(\"Average vocab size: %0.0f\" % np.mean(vocab_sizes_stemmed))"
      ],
      "execution_count": 160,
      "outputs": [
        {
          "output_type": "stream",
          "name": "stdout",
          "text": [
            "Running experiments for 10 different cross-validation splits\n",
            "Completed experiment 1/10\n",
            "Completed experiment 2/10\n",
            "Completed experiment 3/10\n",
            "Completed experiment 4/10\n",
            "Completed experiment 5/10\n",
            "Completed experiment 6/10\n",
            "Completed experiment 7/10\n",
            "Completed experiment 8/10\n",
            "Completed experiment 9/10\n",
            "Completed experiment 10/10\n",
            "\n",
            "Results obtained with smoothing and stemming:\n",
            "Test accuracies: [0.78, 0.84, 0.805, 0.84, 0.775, 0.84, 0.82, 0.775, 0.83, 0.83]\n",
            "Average accuracy: 0.814\n",
            "Average vocab size: 32521\n"
          ]
        }
      ]
    },
    {
      "cell_type": "markdown",
      "metadata": {
        "id": "dPSaVWTsVoqr"
      },
      "source": [
        "**Answer**\n",
        "\n",
        "So the accuracy stays roughly the same as before when we used smoothing (accuracy 0.815). Stemming does not affect the performance much (at least, for our particular dataset). "
      ]
    },
    {
      "cell_type": "markdown",
      "metadata": {
        "id": "JkDHVq_1XUVP"
      },
      "source": [
        "#### (Q2.8) What happens to the number of features (i.e., the size of the vocabulary) when using stemming as opposed to (Q2.4)? (0.5pt)\n",
        "Give actual numbers. You can use the held-out training set to determine these."
      ]
    },
    {
      "cell_type": "code",
      "metadata": {
        "id": "MA3vee5-rJyy",
        "colab": {
          "base_uri": "https://localhost:8080/"
        },
        "outputId": "5e5ed9ff-fcee-48df-b87d-a171b8587da5"
      },
      "source": [
        "# YOUR CODE HERE\n",
        "print(\"\\nAverage vocab size without stemming: %0.0f\" % np.mean(vocab_sizes))\n",
        "print(\"Average vocab size with stemming: %0.0f\" % np.mean(vocab_sizes_stemmed))\n",
        "print(\"Number of features less when we use stemming: %0.0f\" % (np.mean(vocab_sizes) - np.mean(vocab_sizes_stemmed)))"
      ],
      "execution_count": 161,
      "outputs": [
        {
          "output_type": "stream",
          "name": "stdout",
          "text": [
            "\n",
            "Average vocab size without stemming: 45446\n",
            "Average vocab size with stemming: 32521\n",
            "Number of features less when we use stemming: 12926\n"
          ]
        }
      ]
    },
    {
      "cell_type": "markdown",
      "metadata": {
        "id": "78eYMe3xQJ0E"
      },
      "source": [
        "**Answer**\n",
        "\n",
        "So the number of features decreases with 12926 (roughly 28%). This is not surprising, as stemming causes different inflections of a word to be transformed to the same feature."
      ]
    },
    {
      "cell_type": "markdown",
      "metadata": {
        "id": "SoazfxbNV5Lq"
      },
      "source": [
        "### N-grams (1.5pts)\n",
        "\n",
        "A simple way of retaining some of the word\n",
        "order information when using bag-of-words representations is to use **n-gram** features. \n",
        "\n",
        "\n",
        "\n",
        "\n"
      ]
    },
    {
      "cell_type": "markdown",
      "metadata": {
        "id": "OHjy3I7-qWiu"
      },
      "source": [
        "#### (Q2.9) Retrain your classifier from (Q2.4) using **unigrams+bigrams** and **unigrams+bigrams+trigrams** as features. (1pt)\n",
        "Report accuracy and compare it with that of the approaches you have previously implemented. You are allowed to use NLTK to build n-grams from sentences."
      ]
    },
    {
      "cell_type": "code",
      "metadata": {
        "id": "eYuKMTOpq9jz",
        "colab": {
          "base_uri": "https://localhost:8080/"
        },
        "outputId": "ca786f7c-63ba-4cb3-f7b8-d845629ae9e9"
      },
      "source": [
        "# YOUR CODE HERE\n",
        "def add_ngrams(reviews, bigrams=False, trigrams=False):\n",
        "  for review in reviews:\n",
        "    word_list = [word.lower() for sentence in review['content'] for word, _ in sentence]\n",
        "    if bigrams:\n",
        "      bigrams = list(ngrams([word for word in word_list], 2))\n",
        "      bigrams = [[bigram, None] for bigram in bigrams]\n",
        "      review['content'].append(bigrams)\n",
        "    if trigrams:\n",
        "      trigrams = list(ngrams([word for word in word_list], 3))\n",
        "      trigrams = [[trigram, None] for trigram in trigrams]\n",
        "      review['content'].append(trigrams)\n",
        "  return reviews\n",
        "\n",
        "reviews_copy = copy.deepcopy(reviews)\n",
        "reviews_bigrams = add_ngrams(reviews_copy, bigrams=True)\n",
        "test_accuracies, vocab_sizes_bigrams = run_n_fold_cv(reviews_bigrams, n=10, smoothing=True)\n",
        "print(\"\\nResults obtained with smoothing and usage of bigram features:\")\n",
        "print(\"Test accuracies:\", test_accuracies)\n",
        "print(\"Average accuracy: %0.3f\" % np.mean(test_accuracies))\n",
        "print(\"Average vocab size: %0.0f\" % np.mean(vocab_sizes_bigrams))\n",
        "\n",
        "print(\"\")\n",
        "\n",
        "reviews_copy = copy.deepcopy(reviews)\n",
        "reviews_trigrams = add_ngrams(reviews_copy, bigrams=True, trigrams=True)\n",
        "test_accuracies, vocab_sizes_bigrams_trigrams = run_n_fold_cv(reviews_trigrams, n=10, smoothing=True)\n",
        "print(\"\\nResults obtained with smoothing and usage of bigram + trigram features:\")\n",
        "print(\"Test accuracies:\", test_accuracies)\n",
        "print(\"Average accuracy: %0.3f\" % np.mean(test_accuracies))\n",
        "print(\"Average vocab size: %0.0f\" % np.mean(vocab_sizes_bigrams_trigrams))"
      ],
      "execution_count": 162,
      "outputs": [
        {
          "output_type": "stream",
          "name": "stdout",
          "text": [
            "Running experiments for 10 different cross-validation splits\n",
            "Completed experiment 1/10\n",
            "Completed experiment 2/10\n",
            "Completed experiment 3/10\n",
            "Completed experiment 4/10\n",
            "Completed experiment 5/10\n",
            "Completed experiment 6/10\n",
            "Completed experiment 7/10\n",
            "Completed experiment 8/10\n",
            "Completed experiment 9/10\n",
            "Completed experiment 10/10\n",
            "\n",
            "Results obtained with smoothing and usage of bigram features:\n",
            "Test accuracies: [0.795, 0.85, 0.84, 0.875, 0.81, 0.86, 0.83, 0.83, 0.845, 0.835]\n",
            "Average accuracy: 0.837\n",
            "Average vocab size: 471601\n",
            "\n",
            "Running experiments for 10 different cross-validation splits\n",
            "Completed experiment 1/10\n",
            "Completed experiment 2/10\n",
            "Completed experiment 3/10\n",
            "Completed experiment 4/10\n",
            "Completed experiment 5/10\n",
            "Completed experiment 6/10\n",
            "Completed experiment 7/10\n",
            "Completed experiment 8/10\n",
            "Completed experiment 9/10\n",
            "Completed experiment 10/10\n",
            "\n",
            "Results obtained with smoothing and usage of bigram + trigram features:\n",
            "Test accuracies: [0.79, 0.85, 0.835, 0.86, 0.82, 0.85, 0.85, 0.84, 0.85, 0.805]\n",
            "Average accuracy: 0.835\n",
            "Average vocab size: 1419324\n"
          ]
        }
      ]
    },
    {
      "cell_type": "markdown",
      "metadata": {
        "id": "vHXquqFCQxLw"
      },
      "source": [
        "**Answer**\n",
        "\n",
        "So acuracy increases from 0.815 to 0.835/0.837 when we add bigrams/trigrams as features to our BoW approach. In other words: we notice a positive effects of including context/word-order information in our BoW approach. \n",
        "\n",
        "**NOTE**\n",
        "\n",
        "A note we would like to make here is that in our current approach, we obtain bigrams and trigrams over an entire review, without considering sentence starts/ends. We also implemented bigram and trigram extraction per sentence but noticed that we obtained higher accuracy scores when extracting them from the entire text (this also leads to significantly more different features being extracted). We are not sure if this implementation is \"correct\" NLP-wise, because we realise that our n-grams now transcend sentence boundaries which may be a bit unnatural to do. However, as it yields better results, we decided to keep this implementation. Sidenote: results were naturally also dependent on whether or not we used Lapla smoothing, using smoothing resulted in the largest amount of features (see plot below) and also highest best performance. \n",
        "\n",
        "Average accuracies we obtained when using sentence-wise n-gram extraction: \n",
        "\n",
        "bigrams: 0.825\n",
        "\n",
        "bigrams + trigrams: 0.828"
      ]
    },
    {
      "cell_type": "markdown",
      "metadata": {
        "id": "dVrGGArkrWoL"
      },
      "source": [
        "\n",
        "#### Q2.10: How many features does the BoW model have to take into account now? (0.5pt)\n",
        "How would you expect the number of features to increase theoretically (e.g., linear, square, cubed, exponential)? How does this number compare, in practice, to the number of features at (Q2.8)?\n",
        "\n",
        "Use the held-out training set once again for this.\n"
      ]
    },
    {
      "cell_type": "markdown",
      "metadata": {
        "id": "yEGZ9SV8pPaa"
      },
      "source": [
        "**Answer**\n",
        "\n",
        "Theoretically, we would expect the number of features to increase exponentially. What this means is that for a unigram vocabulary the number of features represents the length of the vocabulary: num_features $= V$. For a bigram vocabulary based on that vocabulary, the number of features can theoretically increase by all possible bigrams we can make, i.e. every word conditioned on every other word in the vocabulary. So then the number of features becomes: num_features $= V + V^2$. If we also include trigrams, we can get num_features = $V + V^2 + V^3$. So we have an exponential relation. \n",
        "\n",
        "In practice however, many words never or rarely occur consecutively (e.g. two consecutive nouns) so many theoretical bigrams and trigrams never occur in our corpus. Therefore, the relationship in practice is not exponential. This can also be seen by the average vocabulary sizes going from 45K in unigrams, to around 0.5 million for bigrams and +/- 1.5 million for trigrams (exponential growth would cause the number of features to explode into billions of features, and this does not happen. "
      ]
    },
    {
      "cell_type": "code",
      "metadata": {
        "id": "_z8sAJeUrdtM",
        "colab": {
          "base_uri": "https://localhost:8080/",
          "height": 373
        },
        "outputId": "a22c46d9-1a62-4de3-dcfd-eb90e82ed31f"
      },
      "source": [
        "# YOUR CODE HERE\n",
        "avg_vocab_size = np.mean(vocab_sizes)\n",
        "avg_vocab_size_stemmed = np.mean(vocab_sizes_stemmed)\n",
        "avg_vocab_size_bigrams = np.mean(vocab_sizes_bigrams)\n",
        "avg_vocab_size_bigrams_trigrams = np.mean(vocab_sizes_bigrams_trigrams)\n",
        "print(\"\\nAverage vocab size without stemming: %0.0f\" % avg_vocab_size)\n",
        "print(\"Average vocab size with stemming: %0.0f\" % avg_vocab_size_stemmed)\n",
        "print(\"Average vocab size with bigrams: %0.0f\" % avg_vocab_size_bigrams)\n",
        "print(\"Average vocab size with bigrams + trigrams: %0.0f\" % avg_vocab_size_bigrams_trigrams)\n",
        "\n",
        "plt.figure()\n",
        "x = np.arange(4)\n",
        "plt.bar(x, [avg_vocab_size_stemmed, avg_vocab_size, avg_vocab_size_bigrams, avg_vocab_size_bigrams_trigrams])\n",
        "plt.xticks(x, [\"With stemming\", \"No stemming\", \"Bigrams\", \"Bigrams + trigrams\"])\n",
        "plt.xlabel(\"BoW input features to model\")\n",
        "plt.ylabel(\"Vocabulary size\")\n",
        "plt.show()\n"
      ],
      "execution_count": 163,
      "outputs": [
        {
          "output_type": "stream",
          "name": "stdout",
          "text": [
            "\n",
            "Average vocab size without stemming: 45446\n",
            "Average vocab size with stemming: 32521\n",
            "Average vocab size with bigrams: 471601\n",
            "Average vocab size with bigrams + trigrams: 1419324\n"
          ]
        },
        {
          "output_type": "display_data",
          "data": {
            "image/png": "[encoded data removed]",
            "text/plain": [
              "<Figure size 432x288 with 1 Axes>"
            ]
          },
          "metadata": {
            "needs_background": "light"
          }
        }
      ]
    },
    {
      "cell_type": "markdown",
      "metadata": {
        "id": "CHWKDL3YV6vh"
      },
      "source": [
        "# Support Vector Machines (4pts)"
      ]
    },
    {
      "cell_type": "markdown",
      "metadata": {
        "id": "hJSYhcVaoJGt"
      },
      "source": [
        "Though simple to understand, implement, and debug, one\n",
        "major problem with the Naive Bayes classifier is that its performance\n",
        "deteriorates (becomes skewed) when it is being used with features which\n",
        "are not independent (i.e., are correlated). Another popular classifier\n",
        "that doesn’t scale as well to big data, and is not as simple to debug as\n",
        "Naive Bayes, but that doesn’t assume feature independence is the Support\n",
        "Vector Machine (SVM) classifier.\n",
        "\n",
        "You can find more details about SVMs in Chapter 7 of Bishop: Pattern Recognition and Machine Learning.\n",
        "Other sources for learning SVM:\n",
        "* http://web.mit.edu/zoya/www/SVM.pdf\n",
        "* http://www.cs.columbia.edu/~kathy/cs4701/documents/jason_svm_tutorial.pdf\n",
        "* https://pythonprogramming.net/support-vector-machine-intro-machine-learning-tutorial/\n",
        "\n",
        "\n",
        "\n",
        "\n",
        "\n",
        "\n",
        "\n",
        "Use the scikit-learn implementation of \n",
        "[SVM](http://scikit-learn.org/stable/modules/svm.html) with the default parameters. (You are not expected to perform any hyperparameter tuning, but feel free to do it if you think it gives you good insights for the discussion in question 5.)\n",
        "\n"
      ]
    },
    {
      "cell_type": "markdown",
      "metadata": {
        "id": "0LnzNtQBV8gr"
      },
      "source": [
        "#### (Q3.1): Train SVM and compare to Naive Bayes (2pts)\n",
        "\n",
        "Train an SVM classifier (sklearn.svm.LinearSVC) using the features collected for Naive Bayes. Compare the\n",
        "classification performance of the SVM classifier to that of the Naive\n",
        "Bayes classifier with smoothing.\n",
        "Use cross-validation to evaluate the performance of the classifiers.\n",
        "\n"
      ]
    },
    {
      "cell_type": "code",
      "metadata": {
        "id": "JBscui8Mvoz0",
        "colab": {
          "base_uri": "https://localhost:8080/"
        },
        "outputId": "f21e45d9-12d5-42fd-eeca-0dccbd224e46"
      },
      "source": [
        "# YOUR CODE HERE\n",
        "from scipy import sparse\n",
        "\n",
        "# Global variable of all open classes.\n",
        "OPEN_CLASSES = ['JJ', 'JJR', 'JJS',  'NN', 'NNS', 'NNP', 'NNPS', 'RB', 'RBR', 'RBS', 'VB', 'VBD', 'VBG', 'VBN', 'VBP', 'VBZ', 'WRB'] \n",
        "\n",
        "def get_vocabulary(reviews, use_pos, disc_close_classes):\n",
        "  vocabulary = {}\n",
        "  pos_tags = []\n",
        "  for review in reviews:\n",
        "    for sentence in review['content']:\n",
        "      for word, pos_tag in sentence:\n",
        "        word = word.lower()\n",
        "        # Skip all close-classed words.\n",
        "        if disc_close_classes:\n",
        "          if pos_tag not in OPEN_CLASSES:\n",
        "            continue\n",
        "        # Add POS tag to string.\n",
        "        if use_pos:\n",
        "          word = ' '.join((word, pos_tag))\n",
        "        # Save unseen words in vocabulary.\n",
        "        if word not in vocabulary:\n",
        "          vocabulary[word] = None\n",
        "  return vocabulary\n",
        "        \n",
        "def extract_features(reviews, word_indices, use_pos):\n",
        "  features = np.zeros((len(reviews), len(word_indices)))\n",
        "  labels = np.empty(len(reviews))\n",
        "  pos_tags = []\n",
        "  for i, review in enumerate(reviews):\n",
        "    for sentence in review['content']:\n",
        "      for word, pos_tag in sentence:\n",
        "        if use_pos:\n",
        "          word = ' '.join((word, pos_tag))\n",
        "        if word in word_indices:\n",
        "          word_index = word_indices[word]\n",
        "          features[i][word_index] += 1\n",
        "    if review['sentiment'] == 'POS':\n",
        "      labels[i] = 1\n",
        "    else:\n",
        "      labels[i] = 0\n",
        "  return sparse.csr_matrix(features), labels\n",
        "\n",
        "def svm_prediction(train_reviews, test_reviews, use_pos, disc_close_classes):\n",
        "  vocabulary = get_vocabulary(train_reviews, use_pos, disc_close_classes)\n",
        "  word_indices = {}\n",
        "  for i, word in enumerate(vocabulary):\n",
        "    word_indices[word] = i\n",
        "  \n",
        "  train_features, train_labels = extract_features(train_reviews, word_indices, use_pos)\n",
        "  test_features, test_labels = extract_features(test_reviews, word_indices, use_pos)\n",
        "  \n",
        "  svm = sk.svm.LinearSVC()\n",
        "  svm.fit(train_features, train_labels)\n",
        "  \n",
        "  test_preds = svm.predict(test_features)\n",
        "  token_results = [1 if pred == label else 0 for pred, label in zip(test_preds, test_labels)]\n",
        "  acc = calculate_acc(token_results)\n",
        "  return acc, len(vocabulary)\n",
        "\n",
        "def svm_cross_validation(reviews, n, use_pos=False, disc_close_classes=False):\n",
        "  print(\"Running SVM experiments for {} different cross-validation splits\".format(n))\n",
        "  folds = n_fold_cv(reviews, n)\n",
        "\n",
        "  test_accuracies = []\n",
        "  vocab_sizes = []\n",
        "  for i in range(n):\n",
        "    test_reviews = folds[i]\n",
        "    train_folds = [fold for j,fold in enumerate(folds) if j != i]\n",
        "    train_reviews = [review for fold in train_folds for review in fold]\n",
        "\n",
        "    test_acc, num_features = svm_prediction(train_reviews, test_reviews, use_pos, disc_close_classes)\n",
        "    test_accuracies.append(test_acc)\n",
        "    vocab_sizes.append(num_features)\n",
        "    print(\"Completed experiment {}/{}: acc {:0.3f}\".format(i+1, n, test_acc))\n",
        "  return test_accuracies, vocab_sizes\n",
        "\n",
        "svm_accuracies, vocab_sizes = svm_cross_validation(reviews, n=10, use_pos=False, disc_close_classes=False)\n",
        "print(\"\\nResults obtained with SVM classifier:\")\n",
        "print(\"Test accuracies:\", svm_accuracies)\n",
        "print(\"Average accuracy: %0.3f\" % np.mean(svm_accuracies))\n",
        "print(\"Average num features: %0.3f\" % np.mean(vocab_sizes))\n",
        "\n",
        "print(\"\")\n",
        "\n",
        "print(\"\\nResults obtained with Naive Bayes classifier with smoothing:\")\n",
        "print(\"Average accuracy: %0.3f\" % np.mean(test_accuracies_smoothing))"
      ],
      "execution_count": 164,
      "outputs": [
        {
          "output_type": "stream",
          "name": "stdout",
          "text": [
            "Running SVM experiments for 10 different cross-validation splits\n"
          ]
        },
        {
          "output_type": "stream",
          "name": "stderr",
          "text": [
            "/usr/local/lib/python3.7/dist-packages/sklearn/svm/_base.py:1208: ConvergenceWarning: Liblinear failed to converge, increase the number of iterations.\n",
            "  ConvergenceWarning,\n"
          ]
        },
        {
          "output_type": "stream",
          "name": "stdout",
          "text": [
            "Completed experiment 1/10: acc 0.805\n"
          ]
        },
        {
          "output_type": "stream",
          "name": "stderr",
          "text": [
            "/usr/local/lib/python3.7/dist-packages/sklearn/svm/_base.py:1208: ConvergenceWarning: Liblinear failed to converge, increase the number of iterations.\n",
            "  ConvergenceWarning,\n"
          ]
        },
        {
          "output_type": "stream",
          "name": "stdout",
          "text": [
            "Completed experiment 2/10: acc 0.815\n"
          ]
        },
        {
          "output_type": "stream",
          "name": "stderr",
          "text": [
            "/usr/local/lib/python3.7/dist-packages/sklearn/svm/_base.py:1208: ConvergenceWarning: Liblinear failed to converge, increase the number of iterations.\n",
            "  ConvergenceWarning,\n"
          ]
        },
        {
          "output_type": "stream",
          "name": "stdout",
          "text": [
            "Completed experiment 3/10: acc 0.815\n"
          ]
        },
        {
          "output_type": "stream",
          "name": "stderr",
          "text": [
            "/usr/local/lib/python3.7/dist-packages/sklearn/svm/_base.py:1208: ConvergenceWarning: Liblinear failed to converge, increase the number of iterations.\n",
            "  ConvergenceWarning,\n"
          ]
        },
        {
          "output_type": "stream",
          "name": "stdout",
          "text": [
            "Completed experiment 4/10: acc 0.860\n"
          ]
        },
        {
          "output_type": "stream",
          "name": "stderr",
          "text": [
            "/usr/local/lib/python3.7/dist-packages/sklearn/svm/_base.py:1208: ConvergenceWarning: Liblinear failed to converge, increase the number of iterations.\n",
            "  ConvergenceWarning,\n"
          ]
        },
        {
          "output_type": "stream",
          "name": "stdout",
          "text": [
            "Completed experiment 5/10: acc 0.815\n"
          ]
        },
        {
          "output_type": "stream",
          "name": "stderr",
          "text": [
            "/usr/local/lib/python3.7/dist-packages/sklearn/svm/_base.py:1208: ConvergenceWarning: Liblinear failed to converge, increase the number of iterations.\n",
            "  ConvergenceWarning,\n"
          ]
        },
        {
          "output_type": "stream",
          "name": "stdout",
          "text": [
            "Completed experiment 6/10: acc 0.790\n"
          ]
        },
        {
          "output_type": "stream",
          "name": "stderr",
          "text": [
            "/usr/local/lib/python3.7/dist-packages/sklearn/svm/_base.py:1208: ConvergenceWarning: Liblinear failed to converge, increase the number of iterations.\n",
            "  ConvergenceWarning,\n"
          ]
        },
        {
          "output_type": "stream",
          "name": "stdout",
          "text": [
            "Completed experiment 7/10: acc 0.815\n",
            "Completed experiment 8/10: acc 0.865\n"
          ]
        },
        {
          "output_type": "stream",
          "name": "stderr",
          "text": [
            "/usr/local/lib/python3.7/dist-packages/sklearn/svm/_base.py:1208: ConvergenceWarning: Liblinear failed to converge, increase the number of iterations.\n",
            "  ConvergenceWarning,\n"
          ]
        },
        {
          "output_type": "stream",
          "name": "stdout",
          "text": [
            "Completed experiment 9/10: acc 0.885\n",
            "Completed experiment 10/10: acc 0.860\n",
            "\n",
            "Results obtained with SVM classifier:\n",
            "Test accuracies: [0.805, 0.815, 0.815, 0.86, 0.815, 0.79, 0.815, 0.865, 0.885, 0.86]\n",
            "Average accuracy: 0.832\n",
            "Average num features: 45446.500\n",
            "\n",
            "\n",
            "Results obtained with Naive Bayes classifier with smoothing:\n",
            "Average accuracy: 0.815\n"
          ]
        }
      ]
    },
    {
      "cell_type": "markdown",
      "metadata": {
        "id": "ifXVWcK0V9qY"
      },
      "source": [
        "### POS disambiguation (2pts)\n",
        "\n",
        "Now add in part-of-speech features. You will find the\n",
        "movie review dataset has already been POS-tagged for you ([here](https://catalog.ldc.upenn.edu/docs/LDC99T42/tagguid1.pdf) you find the tagset). Try to\n",
        "replicate the results obtained by Pang et al. (2002).\n",
        "\n"
      ]
    },
    {
      "cell_type": "markdown",
      "metadata": {
        "id": "xA3I82o4oWGu"
      },
      "source": [
        "####(Q3.2) Replace your features with word+POS features, and report performance with the SVM. Use cross-validation to evaluate the classifier and compare the results with (Q3.1). Does part-of-speech information help? Explain why this may be the case. (1pt)\n"
      ]
    },
    {
      "cell_type": "code",
      "metadata": {
        "id": "NOvjYe-t2Br6",
        "colab": {
          "base_uri": "https://localhost:8080/"
        },
        "outputId": "958a1e11-a840-4101-c852-d3a75ab4cc18"
      },
      "source": [
        "# YOUR CODE HERE\n",
        "svm_pos_accuracies, vocab_sizes_pos = svm_cross_validation(reviews, n=10, use_pos=True, disc_close_classes=False)\n",
        "\n",
        "print(\"\\nResults obtained with SVM classifier:\")\n",
        "print(\"Test accuracies:\", svm_accuracies)\n",
        "print(\"Average accuracy: %0.3f\" % np.mean(svm_accuracies))\n",
        "print(\"Average num features: %0.3f\" % np.mean(vocab_sizes))\n",
        "\n",
        "\n",
        "print(\"\\nResults obtained with SVM classifier using POS tags:\")\n",
        "print(\"Test accuracies:\", svm_pos_accuracies)\n",
        "print(\"Average accuracy: %0.3f\" % np.mean(svm_pos_accuracies))\n",
        "print(\"Average num features: %0.3f\" % np.mean(vocab_sizes_pos))"
      ],
      "execution_count": 165,
      "outputs": [
        {
          "output_type": "stream",
          "name": "stdout",
          "text": [
            "Running SVM experiments for 10 different cross-validation splits\n"
          ]
        },
        {
          "output_type": "stream",
          "name": "stderr",
          "text": [
            "/usr/local/lib/python3.7/dist-packages/sklearn/svm/_base.py:1208: ConvergenceWarning: Liblinear failed to converge, increase the number of iterations.\n",
            "  ConvergenceWarning,\n"
          ]
        },
        {
          "output_type": "stream",
          "name": "stdout",
          "text": [
            "Completed experiment 1/10: acc 0.800\n",
            "Completed experiment 2/10: acc 0.795\n",
            "Completed experiment 3/10: acc 0.805\n"
          ]
        },
        {
          "output_type": "stream",
          "name": "stderr",
          "text": [
            "/usr/local/lib/python3.7/dist-packages/sklearn/svm/_base.py:1208: ConvergenceWarning: Liblinear failed to converge, increase the number of iterations.\n",
            "  ConvergenceWarning,\n"
          ]
        },
        {
          "output_type": "stream",
          "name": "stdout",
          "text": [
            "Completed experiment 4/10: acc 0.840\n"
          ]
        },
        {
          "output_type": "stream",
          "name": "stderr",
          "text": [
            "/usr/local/lib/python3.7/dist-packages/sklearn/svm/_base.py:1208: ConvergenceWarning: Liblinear failed to converge, increase the number of iterations.\n",
            "  ConvergenceWarning,\n"
          ]
        },
        {
          "output_type": "stream",
          "name": "stdout",
          "text": [
            "Completed experiment 5/10: acc 0.820\n"
          ]
        },
        {
          "output_type": "stream",
          "name": "stderr",
          "text": [
            "/usr/local/lib/python3.7/dist-packages/sklearn/svm/_base.py:1208: ConvergenceWarning: Liblinear failed to converge, increase the number of iterations.\n",
            "  ConvergenceWarning,\n"
          ]
        },
        {
          "output_type": "stream",
          "name": "stdout",
          "text": [
            "Completed experiment 6/10: acc 0.820\n",
            "Completed experiment 7/10: acc 0.845\n"
          ]
        },
        {
          "output_type": "stream",
          "name": "stderr",
          "text": [
            "/usr/local/lib/python3.7/dist-packages/sklearn/svm/_base.py:1208: ConvergenceWarning: Liblinear failed to converge, increase the number of iterations.\n",
            "  ConvergenceWarning,\n"
          ]
        },
        {
          "output_type": "stream",
          "name": "stdout",
          "text": [
            "Completed experiment 8/10: acc 0.855\n"
          ]
        },
        {
          "output_type": "stream",
          "name": "stderr",
          "text": [
            "/usr/local/lib/python3.7/dist-packages/sklearn/svm/_base.py:1208: ConvergenceWarning: Liblinear failed to converge, increase the number of iterations.\n",
            "  ConvergenceWarning,\n"
          ]
        },
        {
          "output_type": "stream",
          "name": "stdout",
          "text": [
            "Completed experiment 9/10: acc 0.855\n",
            "Completed experiment 10/10: acc 0.835\n",
            "\n",
            "Results obtained with SVM classifier:\n",
            "Test accuracies: [0.805, 0.815, 0.815, 0.86, 0.815, 0.79, 0.815, 0.865, 0.885, 0.86]\n",
            "Average accuracy: 0.832\n",
            "Average num features: 45446.500\n",
            "\n",
            "Results obtained with SVM classifier using POS tags:\n",
            "Test accuracies: [0.8, 0.795, 0.805, 0.84, 0.82, 0.82, 0.845, 0.855, 0.855, 0.835]\n",
            "Average accuracy: 0.827\n",
            "Average num features: 54657.300\n"
          ]
        }
      ]
    },
    {
      "cell_type": "markdown",
      "metadata": {
        "id": "83X9PfrylIqD"
      },
      "source": [
        "**Answer**\n",
        "\n",
        "So we notice that incorporating POS-information in our features does not help in achieving higher performance (0.827 < 0.832). This result is perhaps somewhat surprising, as you would expect POS information of words to be beneficial for a SVM classifier. However, in the paper of Pang et al. (2002) the same thing happens: the SVM accuracy declines slightly when POS tags are added as features. It might be the case that it is more beneficial for this training set to keep features more 'general', in the sense that different POS-tags assigned to the same word will hinder the models ability to recognize the same word in test instances as it learned them in training instances (i.e. perhaps there is a discrepancy between the train set and test set so that the same words have a different meaning between train and test instances). It could also be that the POS tags of this dataset are not always correct (perhaps they are learned through a POS-tagger that makes mistakes).\n",
        "\n",
        "All this is a bit of a stretch though, as it is hard to explain exactly why performance slightly drops after including POS-information."
      ]
    },
    {
      "cell_type": "markdown",
      "metadata": {
        "id": "Su-3w87eMW0w"
      },
      "source": [
        "#### (Q3.3) Discard all closed-class words from your data (keep only nouns, verbs, adjectives, and adverbs), and report performance. Does this help? Use cross-validation to evaluate the classifier and compare the results with (Q3.2). Are closed-class words detrimental to the classifier? Explain why this may be the case. (1pt)"
      ]
    },
    {
      "cell_type": "code",
      "metadata": {
        "id": "CCUPlPozCYUX",
        "colab": {
          "base_uri": "https://localhost:8080/"
        },
        "outputId": "1bc6735f-50e1-45f6-bffa-03fad8ca83be"
      },
      "source": [
        "# YOUR CODE HERE\n",
        "svm_pos_close_class_accs, vocab_sizes_cc = svm_cross_validation(reviews, n=10, use_pos=True, disc_close_classes=True)\n",
        "print(\"\\nResults obtained with SVM classifier:\")\n",
        "print(\"Test accuracies:\", svm_accuracies)\n",
        "print(\"Average accuracy: %0.3f\" % np.mean(svm_accuracies))\n",
        "print(\"Average num features: %0.3f\" % np.mean(vocab_sizes))\n",
        "\n",
        "print(\"\\nResults obtained with SVM classifier using POS tags:\")\n",
        "print(\"Test accuracies:\", svm_pos_accuracies)\n",
        "print(\"Average accuracy: %0.3f\" % np.mean(svm_pos_accuracies))\n",
        "print(\"Average num features: %0.3f\" % np.mean(vocab_sizes_pos))\n",
        "\n",
        "print(\"\\nResults obtained with SVM classifier discarding close-classed words:\")\n",
        "print(\"Test accuracies:\", svm_pos_close_class_accs)\n",
        "print(\"Average accuracy: %0.3f\" % np.mean(svm_pos_close_class_accs))\n",
        "print(\"Average num features: %0.3f\" % np.mean(vocab_sizes_cc))"
      ],
      "execution_count": 166,
      "outputs": [
        {
          "output_type": "stream",
          "name": "stdout",
          "text": [
            "Running SVM experiments for 10 different cross-validation splits\n",
            "Completed experiment 1/10: acc 0.790\n",
            "Completed experiment 2/10: acc 0.830\n"
          ]
        },
        {
          "output_type": "stream",
          "name": "stderr",
          "text": [
            "/usr/local/lib/python3.7/dist-packages/sklearn/svm/_base.py:1208: ConvergenceWarning: Liblinear failed to converge, increase the number of iterations.\n",
            "  ConvergenceWarning,\n"
          ]
        },
        {
          "output_type": "stream",
          "name": "stdout",
          "text": [
            "Completed experiment 3/10: acc 0.830\n"
          ]
        },
        {
          "output_type": "stream",
          "name": "stderr",
          "text": [
            "/usr/local/lib/python3.7/dist-packages/sklearn/svm/_base.py:1208: ConvergenceWarning: Liblinear failed to converge, increase the number of iterations.\n",
            "  ConvergenceWarning,\n"
          ]
        },
        {
          "output_type": "stream",
          "name": "stdout",
          "text": [
            "Completed experiment 4/10: acc 0.840\n"
          ]
        },
        {
          "output_type": "stream",
          "name": "stderr",
          "text": [
            "/usr/local/lib/python3.7/dist-packages/sklearn/svm/_base.py:1208: ConvergenceWarning: Liblinear failed to converge, increase the number of iterations.\n",
            "  ConvergenceWarning,\n"
          ]
        },
        {
          "output_type": "stream",
          "name": "stdout",
          "text": [
            "Completed experiment 5/10: acc 0.860\n"
          ]
        },
        {
          "output_type": "stream",
          "name": "stderr",
          "text": [
            "/usr/local/lib/python3.7/dist-packages/sklearn/svm/_base.py:1208: ConvergenceWarning: Liblinear failed to converge, increase the number of iterations.\n",
            "  ConvergenceWarning,\n"
          ]
        },
        {
          "output_type": "stream",
          "name": "stdout",
          "text": [
            "Completed experiment 6/10: acc 0.815\n"
          ]
        },
        {
          "output_type": "stream",
          "name": "stderr",
          "text": [
            "/usr/local/lib/python3.7/dist-packages/sklearn/svm/_base.py:1208: ConvergenceWarning: Liblinear failed to converge, increase the number of iterations.\n",
            "  ConvergenceWarning,\n"
          ]
        },
        {
          "output_type": "stream",
          "name": "stdout",
          "text": [
            "Completed experiment 7/10: acc 0.870\n"
          ]
        },
        {
          "output_type": "stream",
          "name": "stderr",
          "text": [
            "/usr/local/lib/python3.7/dist-packages/sklearn/svm/_base.py:1208: ConvergenceWarning: Liblinear failed to converge, increase the number of iterations.\n",
            "  ConvergenceWarning,\n"
          ]
        },
        {
          "output_type": "stream",
          "name": "stdout",
          "text": [
            "Completed experiment 8/10: acc 0.860\n",
            "Completed experiment 9/10: acc 0.845\n",
            "Completed experiment 10/10: acc 0.820\n",
            "\n",
            "Results obtained with SVM classifier:\n",
            "Test accuracies: [0.805, 0.815, 0.815, 0.86, 0.815, 0.79, 0.815, 0.865, 0.885, 0.86]\n",
            "Average accuracy: 0.832\n",
            "Average num features: 45446.500\n",
            "\n",
            "Results obtained with SVM classifier using POS tags:\n",
            "Test accuracies: [0.8, 0.795, 0.805, 0.84, 0.82, 0.82, 0.845, 0.855, 0.855, 0.835]\n",
            "Average accuracy: 0.827\n",
            "Average num features: 54657.300\n",
            "\n",
            "Results obtained with SVM classifier discarding close-classed words:\n",
            "Test accuracies: [0.79, 0.83, 0.83, 0.84, 0.86, 0.815, 0.87, 0.86, 0.845, 0.82]\n",
            "Average accuracy: 0.836\n",
            "Average num features: 53604.300\n"
          ]
        }
      ]
    },
    {
      "cell_type": "markdown",
      "metadata": {
        "id": "YaxCVrs8pWSp"
      },
      "source": [
        "**Answer**\n",
        "\n",
        "It seems that the closed-class words indeed hinder performance, as the accuracy of only using open-class words increases slightly compared to previous results (0.836 > 0.832). The reason for this is that the closed-class words are often not meaningful for sentiment analysis (i.e. we can mainly detect sentiment from usage of nouns, verbs, adjectives, and adverbs). So the closed-class words add extra feature dimensions to an already high-dimensional feature vector that are generally not meaningful for classification. In other words, adding closed-class words introduces unneccesary signal noise to our SVM, and by discarding closed-class words, we actually gain performance."
      ]
    },
    {
      "cell_type": "markdown",
      "metadata": {
        "id": "nfwqOciAl2No"
      },
      "source": [
        "# (Q4) Discussion (max. 500 words). (5pts)\n",
        "\n",
        "> Based on your experiments, what are the effective features and techniques in sentiment analysis? What information do different features encode?\n",
        "Why is this important? What are the limitations of these features and techniques?\n",
        " \n"
      ]
    },
    {
      "cell_type": "markdown",
      "metadata": {
        "id": "8lzdAXIXdUkn"
      },
      "source": [
        "**Table 1: overview of results**\n",
        "![Screenshot (63).png](data:image/png;base64,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)"
      ]
    },
    {
      "cell_type": "markdown",
      "metadata": {
        "id": "ZYuse5WLmekZ"
      },
      "source": [
        "In this discussion, we will analyze and recap the results of this notebook.\n",
        "\n",
        "First, we noticed that using a predefined **lexicon-based method** cannot compete with statistical or ML-based methods. So it is better to learn or model sentiment associations over words. The first technique we implemented that did this was **Naive Bayes**. This is a **Bag-of-Words-based approach**, meaning it is assumed that features are not dependent on each other other (syntactical structure is ignored). The downside of Naive Bayes is that features are generally dependent on each other - so we make a naive assumption.\n",
        "\n",
        "Second, we made extensions for the Naive Bayes model to confront feature sparsity and overfitting problems. We discuss them one-by-one:\n",
        "\n",
        "\n",
        "*   **Smoothing**: a possible problem of Naive Bayes is that we can have many zero probabilities because of data sparsity (we have unseen words). A solution for this is distributing extra probability to rare and unseen events, a technique called Laplace smoothing. Smoothing increased the number of features, but it did not improve performance for our task. Generally, smoothing is most suitable when we have few unseen events.\n",
        "\n",
        "*   **Stemming**: when building a classification pipeline, we want our classifier to generalize to new samples, i.e., we do not want to overfit our training data. Stemming is a technique that transforms different inflections of a word to the same feature in the BoW vector space, thereby generalizing over words. The limitation of stemming is that we can generalize too much, such that we miss word-specific information. This is a general trade-off between generalization and having more specific features. Overall, stemming reduces the number of features and can be beneficial for performance, but for our task, stemming did not improve accuracy scores.\n",
        "\n",
        "*   **N-grams**: The most significant disadvantage of using a BoW-based approach is that syntactic structure is disregarded, meaning that we can miss important context information and feature dependencies. To overcome this to some extent, we implemented bigrams and trigrams as extra features that take word-order into account. Adding bigrams and trigrams significantly increased the number of features, which can also be a limitation because it makes the whole pipeline computationally more demanding. However, for our task, adding bigrams and trigrams improved classification accuracies, indicating that context information can be very beneficial (e.g., modeling negations such as \"not bad\").\n",
        "\n",
        "Thirdly, we implemented **SVMs** for our classification task. This method does not assume feature independence, as was the case with Naive Bayes. A downside of SVMs, however, is that they do not scale well to big data. We noticed that the SVMs outperformed the Naive Bayes classifier for our task, except when bigrams were added as features. \n",
        "\n",
        "Lastly, we analyzed the effects of adding **POS-tags** as features and using only open-class words as features. The benefit of adding POS-tags is that they are easy to add as features (they increase the feature space) but still can be seen as a step towards syntactic analysis. However, we did not notice an improvement in accuracy when adding POS-features. When discarding closed-class words, which are generally words that contain little to no semantic information, we noticed an improvement of accuracy and a slight decrease of features. This indicates that it can be beneficial for classification systems to limit the feature space to contain only meaningful features, thereby reducing noise and improving performance."
      ]
    },
    {
      "cell_type": "markdown",
      "metadata": {
        "id": "iwaKwfWQhRk_"
      },
      "source": [
        "# Submission \n"
      ]
    },
    {
      "cell_type": "code",
      "metadata": {
        "id": "aOUeaET5ijk-"
      },
      "source": [
        "# Write your names and student numbers here:\n",
        "# Jochem Soons    # 11327030\n",
        "# Darius Barsony  # 11234342\n",
        "\n"
      ],
      "execution_count": 167,
      "outputs": []
    },
    {
      "cell_type": "markdown",
      "metadata": {
        "id": "3A9K-H6Tii3X"
      },
      "source": [
        "**That's it!**\n",
        "\n",
        "- Check if you answered all questions fully and correctly. \n",
        "- Download your completed notebook using `File -> Download .ipynb` \n",
        "- Check if your answers are all included in the file you submit.\n",
        "- Submit your .ipynb file via *Canvas*. One submission per group. "
      ]
    },
    {
      "cell_type": "code",
      "metadata": {
        "id": "YHslatYAKBrF"
      },
      "source": [
        ""
      ],
      "execution_count": 167,
      "outputs": []
    }
  ]
}